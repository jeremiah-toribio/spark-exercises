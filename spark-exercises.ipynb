{
 "cells": [
  {
   "cell_type": "markdown",
   "metadata": {},
   "source": [
    "# Imports"
   ]
  },
  {
   "cell_type": "code",
   "execution_count": 28,
   "metadata": {},
   "outputs": [],
   "source": [
    "import multiprocessing\n",
    "import pyspark\n",
    "import pandas as pd\n",
    "import numpy as np\n",
    "from pyspark.sql import functions as F\n",
    "session = pyspark.sql.SparkSession.builder.getOrCreate()"
   ]
  },
  {
   "cell_type": "markdown",
   "metadata": {},
   "source": [
    "# 1. Create a spark data frame that contains your favorite programming languages.\n",
    "\n",
    "- 1a. The name of the column should be language\n",
    "- 1b. View the schema of the dataframe\n",
    "- 1c. Output the shape of the dataframe\n",
    "- 1d. Show the first 5 records in the dataframe"
   ]
  },
  {
   "cell_type": "code",
   "execution_count": 10,
   "metadata": {},
   "outputs": [
    {
     "data": {
      "text/html": [
       "<div>\n",
       "<style scoped>\n",
       "    .dataframe tbody tr th:only-of-type {\n",
       "        vertical-align: middle;\n",
       "    }\n",
       "\n",
       "    .dataframe tbody tr th {\n",
       "        vertical-align: top;\n",
       "    }\n",
       "\n",
       "    .dataframe thead th {\n",
       "        text-align: right;\n",
       "    }\n",
       "</style>\n",
       "<table border=\"1\" class=\"dataframe\">\n",
       "  <thead>\n",
       "    <tr style=\"text-align: right;\">\n",
       "      <th></th>\n",
       "      <th>languages</th>\n",
       "    </tr>\n",
       "  </thead>\n",
       "  <tbody>\n",
       "    <tr>\n",
       "      <th>0</th>\n",
       "      <td>Python</td>\n",
       "    </tr>\n",
       "    <tr>\n",
       "      <th>1</th>\n",
       "      <td>C++</td>\n",
       "    </tr>\n",
       "    <tr>\n",
       "      <th>2</th>\n",
       "      <td>Javascript</td>\n",
       "    </tr>\n",
       "    <tr>\n",
       "      <th>3</th>\n",
       "      <td>Java</td>\n",
       "    </tr>\n",
       "    <tr>\n",
       "      <th>4</th>\n",
       "      <td>Ruby</td>\n",
       "    </tr>\n",
       "    <tr>\n",
       "      <th>5</th>\n",
       "      <td>R</td>\n",
       "    </tr>\n",
       "    <tr>\n",
       "      <th>6</th>\n",
       "      <td>Scala</td>\n",
       "    </tr>\n",
       "    <tr>\n",
       "      <th>7</th>\n",
       "      <td>Cuda</td>\n",
       "    </tr>\n",
       "    <tr>\n",
       "      <th>8</th>\n",
       "      <td>SQL</td>\n",
       "    </tr>\n",
       "  </tbody>\n",
       "</table>\n",
       "</div>"
      ],
      "text/plain": [
       "    languages\n",
       "0      Python\n",
       "1         C++\n",
       "2  Javascript\n",
       "3        Java\n",
       "4        Ruby\n",
       "5           R\n",
       "6       Scala\n",
       "7        Cuda\n",
       "8         SQL"
      ]
     },
     "execution_count": 10,
     "metadata": {},
     "output_type": "execute_result"
    }
   ],
   "source": [
    "# 1a. The name of the column should be language\n",
    "# 1b. View the schema of the dataframe\n",
    "data = ['Python','C++','Javascript','Java','Ruby','R','Scala','Cuda','SQL']\n",
    "\n",
    "df = pd.DataFrame(data, columns=['languages'])\n",
    "df"
   ]
  },
  {
   "cell_type": "code",
   "execution_count": 11,
   "metadata": {},
   "outputs": [],
   "source": [
    "df = session.createDataFrame(df)"
   ]
  },
  {
   "cell_type": "code",
   "execution_count": 15,
   "metadata": {},
   "outputs": [
    {
     "data": {
      "text/plain": [
       "(9, 1)"
      ]
     },
     "execution_count": 15,
     "metadata": {},
     "output_type": "execute_result"
    }
   ],
   "source": [
    "# 1c. Output the shape of the dataframe\n",
    "df.count(), len(df.columns)"
   ]
  },
  {
   "cell_type": "code",
   "execution_count": 18,
   "metadata": {},
   "outputs": [
    {
     "name": "stdout",
     "output_type": "stream",
     "text": [
      "+----------+\n",
      "| languages|\n",
      "+----------+\n",
      "|    Python|\n",
      "|       C++|\n",
      "|Javascript|\n",
      "|      Java|\n",
      "|      Ruby|\n",
      "+----------+\n",
      "only showing top 5 rows\n",
      "\n"
     ]
    }
   ],
   "source": [
    "# 1d. Show the first 5 records in the dataframe\n",
    "df.show(5)"
   ]
  },
  {
   "cell_type": "markdown",
   "metadata": {},
   "source": [
    "# 2. Load the mpg dataset as a spark dataframe.\n",
    "\n",
    "    Create 1 column of output that contains a message like the one below:\n",
    "\n",
    "\n",
    "        ~ The 1999 audi a4 has a 4 cylinder engine."
   ]
  },
  {
   "cell_type": "code",
   "execution_count": 19,
   "metadata": {},
   "outputs": [],
   "source": [
    "from pydataset import data"
   ]
  },
  {
   "cell_type": "code",
   "execution_count": 20,
   "metadata": {},
   "outputs": [],
   "source": [
    "mpg = data('mpg')"
   ]
  },
  {
   "cell_type": "code",
   "execution_count": 25,
   "metadata": {},
   "outputs": [],
   "source": [
    "mpg = session.createDataFrame(mpg)"
   ]
  },
  {
   "cell_type": "code",
   "execution_count": 27,
   "metadata": {},
   "outputs": [
    {
     "name": "stdout",
     "output_type": "stream",
     "text": [
      "+------------+-----+-----+----+---+----------+---+---+---+---+-------+\n",
      "|manufacturer|model|displ|year|cyl|     trans|drv|cty|hwy| fl|  class|\n",
      "+------------+-----+-----+----+---+----------+---+---+---+---+-------+\n",
      "|        audi|   a4|  1.8|1999|  4|  auto(l5)|  f| 18| 29|  p|compact|\n",
      "|        audi|   a4|  1.8|1999|  4|manual(m5)|  f| 21| 29|  p|compact|\n",
      "+------------+-----+-----+----+---+----------+---+---+---+---+-------+\n",
      "only showing top 2 rows\n",
      "\n"
     ]
    }
   ],
   "source": [
    "mpg.show(2)"
   ]
  },
  {
   "cell_type": "code",
   "execution_count": 58,
   "metadata": {},
   "outputs": [
    {
     "name": "stdout",
     "output_type": "stream",
     "text": [
      "+-----------------------------------------+---+---+---+\n",
      "|Requested String                         |drv|cty|hwy|\n",
      "+-----------------------------------------+---+---+---+\n",
      "|The 1999 audi a4 has a 4 cylinder engine.|f  |18 |29 |\n",
      "|The 1999 audi a4 has a 4 cylinder engine.|f  |21 |29 |\n",
      "|The 2008 audi a4 has a 4 cylinder engine.|f  |20 |31 |\n",
      "|The 2008 audi a4 has a 4 cylinder engine.|f  |21 |30 |\n",
      "|The 1999 audi a4 has a 6 cylinder engine.|f  |16 |26 |\n",
      "+-----------------------------------------+---+---+---+\n",
      "only showing top 5 rows\n",
      "\n"
     ]
    }
   ],
   "source": [
    "# 2\n",
    "mpg.select(\n",
    "    (F.concat\n",
    "     (\n",
    "         F.lit('The '),mpg['year'].cast('string'),F.lit(' '),\n",
    "      'manufacturer',F.lit(' '),F.col('model'),F.lit(' has a '),\n",
    "      F.col('cyl'),F.lit(' cylinder engine.')\n",
    "      )\n",
    "      .alias('Requested String')),\n",
    "      mpg.drv,\n",
    "      mpg.cty,\n",
    "      mpg.hwy\n",
    "      ).show(5,truncate=False)"
   ]
  },
  {
   "cell_type": "markdown",
   "metadata": {},
   "source": [
    "# 3. Load the tips dataset as a spark dataframe.\n",
    "\n",
    "- 3a. What percentage of observations are smokers?\n",
    "- 3b. Create a column that contains the tip percentage\n",
    "- 3c. Calculate the average tip percentage for each combination of sex and smoker."
   ]
  },
  {
   "cell_type": "code",
   "execution_count": 59,
   "metadata": {},
   "outputs": [],
   "source": [
    "tips = data('tips')"
   ]
  },
  {
   "cell_type": "code",
   "execution_count": 60,
   "metadata": {},
   "outputs": [],
   "source": [
    "tips = session.createDataFrame(tips)"
   ]
  },
  {
   "cell_type": "code",
   "execution_count": 62,
   "metadata": {},
   "outputs": [
    {
     "name": "stdout",
     "output_type": "stream",
     "text": [
      "+----------+----+------+------+---+------+----+\n",
      "|total_bill| tip|   sex|smoker|day|  time|size|\n",
      "+----------+----+------+------+---+------+----+\n",
      "|     16.99|1.01|Female|    No|Sun|Dinner|   2|\n",
      "|     10.34|1.66|  Male|    No|Sun|Dinner|   3|\n",
      "|     21.01| 3.5|  Male|    No|Sun|Dinner|   3|\n",
      "|     23.68|3.31|  Male|    No|Sun|Dinner|   2|\n",
      "+----------+----+------+------+---+------+----+\n",
      "only showing top 4 rows\n",
      "\n"
     ]
    }
   ],
   "source": [
    "tips.show(4)"
   ]
  },
  {
   "cell_type": "code",
   "execution_count": 65,
   "metadata": {},
   "outputs": [
    {
     "data": {
      "text/plain": [
       "(244, 7)"
      ]
     },
     "execution_count": 65,
     "metadata": {},
     "output_type": "execute_result"
    }
   ],
   "source": [
    "tips.count(), len(tips.columns)"
   ]
  },
  {
   "cell_type": "code",
   "execution_count": 102,
   "metadata": {},
   "outputs": [
    {
     "name": "stdout",
     "output_type": "stream",
     "text": [
      "Percentage of Smokers is 38.11%\n"
     ]
    }
   ],
   "source": [
    "# 3a. What percentage of observations are smokers?\n",
    "num_smokers = tips.filter(tips.smoker == 'Yes', ).count()\n",
    "\n",
    "print(f'Percentage of Smokers is {round((num_smokers / tips.count()) * 100, 2)}%')"
   ]
  },
  {
   "cell_type": "code",
   "execution_count": null,
   "metadata": {},
   "outputs": [],
   "source": [
    "tips.filter((tips.smoker == 'Yes') & (tips.sex == 'Male'))"
   ]
  },
  {
   "cell_type": "code",
   "execution_count": 182,
   "metadata": {},
   "outputs": [
    {
     "name": "stdout",
     "output_type": "stream",
     "text": [
      "+----------+----+------+------+---+------+----+-------+\n",
      "|total_bill| tip|   sex|smoker|day|  time|size|tip (%)|\n",
      "+----------+----+------+------+---+------+----+-------+\n",
      "|     16.99|1.01|Female|    No|Sun|Dinner|   2|  16.82|\n",
      "|     10.34|1.66|  Male|    No|Sun|Dinner|   3|   6.23|\n",
      "|     21.01| 3.5|  Male|    No|Sun|Dinner|   3|    6.0|\n",
      "|     23.68|3.31|  Male|    No|Sun|Dinner|   2|   7.15|\n",
      "|     24.59|3.61|Female|    No|Sun|Dinner|   4|   6.81|\n",
      "+----------+----+------+------+---+------+----+-------+\n",
      "only showing top 5 rows\n",
      "\n"
     ]
    }
   ],
   "source": [
    "# 3b. Create a column that contains the tip percentage\n",
    "tips.withColumn('tip (%)', F.round((F.col('total_bill') / tips.tip), 2)).show(5)"
   ]
  },
  {
   "cell_type": "code",
   "execution_count": 150,
   "metadata": {},
   "outputs": [],
   "source": [
    "# 3c. Calculate the average tip percentage for each combination of sex and smoker.\n",
    "tip_smoker = round((num_smokers / tips.count()) * 100, 2)\n",
    "tip_non_smoker = round(((tips.count() - num_smokers) / tips.count()) * 100, 2)"
   ]
  },
  {
   "cell_type": "code",
   "execution_count": 230,
   "metadata": {},
   "outputs": [],
   "source": [
    "male_smokers = tips.filter((tips.smoker == 'Yes') & (tips.sex == 'Male'))\n",
    "male_smokers_tip = male_smokers.withColumn('tip (%)', F.round((F.col('total_bill') / tips.tip), 2))\n",
    "\n",
    "male_non_smokers = tips.filter((tips.smoker != 'Yes') & (tips.sex == 'Male'))\n",
    "male_non_smokers_tip = male_non_smokers.withColumn('tip (%)', F.round((F.col('total_bill') / tips.tip), 2))\n",
    "\n",
    "\n",
    "female_smokers = tips.filter((tips.smoker == 'Yes') & (tips.sex != 'Male'))\n",
    "female_smokers_tip = female_smokers.withColumn('tip (%)', F.round((F.col('total_bill') / tips.tip), 2))\n",
    "\n",
    "female_non_smokers = tips.filter((tips.smoker != 'Yes') & (tips.sex != 'Male'))\n",
    "female_non_smokers_tip = female_non_smokers.withColumn('tip (%)', F.round((F.col('total_bill') / tips.tip), 2))"
   ]
  },
  {
   "cell_type": "code",
   "execution_count": 232,
   "metadata": {},
   "outputs": [
    {
     "name": "stdout",
     "output_type": "stream",
     "text": [
      "Avg Tip for Male Smokers is 8.12%\n",
      "Avg Tip for Male Non-Smokers is 6.69%\n",
      "Avg Tip for Female Smokers is 6.45%\n",
      "Avg Tip for Female Non-Smokers is 6.88%\n"
     ]
    }
   ],
   "source": [
    "print(f'Avg Tip for Male Smokers is {male_smokers_tip.select(F.round(F.avg(male_smokers_tip[\"tip (%)\"]), 2)).collect()[0][0]}%')\n",
    "print(f'Avg Tip for Male Non-Smokers is {male_non_smokers_tip.select(F.round(F.avg(male_non_smokers_tip[\"tip (%)\"]), 2)).collect()[0][0]}%')\n",
    "print(f'Avg Tip for Female Smokers is {female_smokers_tip.select(F.round(F.avg(female_smokers_tip[\"tip (%)\"]), 2)).collect()[0][0]}%')\n",
    "print(f'Avg Tip for Female Non-Smokers is {female_non_smokers_tip.select(F.round(F.avg(female_non_smokers_tip[\"tip (%)\"]), 2)).collect()[0][0]}%')\n"
   ]
  },
  {
   "cell_type": "markdown",
   "metadata": {},
   "source": [
    "4. Use the Seattle weather dataset referenced in the lesson to answer the questions below.\n",
    "\n",
    "- 4a. Convert the temperatures to fahrenheit.\n",
    "- 4b. Which month has the most rain, on average?\n",
    "- 4c. Which year was the windiest?\n",
    "- 4d. What is the most frequent type of weather in January?\n",
    "- 4e. What is the average high and low temperature on sunny days in July in 2013 and 2014?\n",
    "- 4f. What percentage of days were rainy in Q3 of 2015?\n",
    "- 4g. For each year, find what percentage of days it rained (had non-zero precipitation)."
   ]
  },
  {
   "cell_type": "code",
   "execution_count": 263,
   "metadata": {},
   "outputs": [],
   "source": [
    "from vega_datasets import data\n",
    "\n",
    "weather = data.seattle_weather().assign(date=lambda df: df.date.astype(str))\n",
    "weather = session.createDataFrame(weather)"
   ]
  },
  {
   "cell_type": "code",
   "execution_count": 265,
   "metadata": {},
   "outputs": [],
   "source": [
    "weather_fahrenheit = weather.withColumn('temp_max', F.round((F.col('temp_max') * 9/5) + 32, 2))\n",
    "weather_fahrenheit = weather_fahrenheit.withColumn('temp_min', F.round((F.col('temp_min') * 9/5) + 32, 2))"
   ]
  },
  {
   "cell_type": "code",
   "execution_count": 267,
   "metadata": {},
   "outputs": [
    {
     "name": "stdout",
     "output_type": "stream",
     "text": [
      "+----------+-------------+--------+--------+----+-------+\n",
      "|      date|precipitation|temp_max|temp_min|wind|weather|\n",
      "+----------+-------------+--------+--------+----+-------+\n",
      "|2012-01-01|          0.0|   55.04|    41.0| 4.7|drizzle|\n",
      "|2012-01-02|         10.9|   51.08|   37.04| 4.5|   rain|\n",
      "|2012-01-03|          0.8|   53.06|   44.96| 2.3|   rain|\n",
      "+----------+-------------+--------+--------+----+-------+\n",
      "only showing top 3 rows\n",
      "\n"
     ]
    }
   ],
   "source": [
    "# 4a. Convert the temperatures to fahrenheit.\n",
    "weather_fahrenheit.show(3)"
   ]
  },
  {
   "cell_type": "code",
   "execution_count": 273,
   "metadata": {},
   "outputs": [],
   "source": [
    "# 4b. Which month has the most rain, on average?\n",
    "grouprain = weather.withColumn(\n",
    "    'month', F.month(F.col('date')\n",
    "                    )\n",
    ").groupBy(\n",
    "    'month', 'weather'\n",
    ").agg(\n",
    "    F.mean(weather.precipitation).alias('total_rain')\n",
    ").sort('total_rain',ascending=False)"
   ]
  },
  {
   "cell_type": "code",
   "execution_count": 298,
   "metadata": {},
   "outputs": [
    {
     "name": "stdout",
     "output_type": "stream",
     "text": [
      "+-----+-------+------------------+\n",
      "|month|weather|        total_rain|\n",
      "+-----+-------+------------------+\n",
      "|    3|   snow|11.766666666666666|\n",
      "|   12|   snow|11.680000000000001|\n",
      "|   10|   rain|             9.675|\n",
      "+-----+-------+------------------+\n",
      "only showing top 3 rows\n",
      "\n"
     ]
    }
   ],
   "source": [
    "grouprain.show(3)"
   ]
  },
  {
   "cell_type": "code",
   "execution_count": 276,
   "metadata": {},
   "outputs": [],
   "source": [
    "rain = grouprain.filter(grouprain.weather == 'rain')"
   ]
  },
  {
   "cell_type": "code",
   "execution_count": 299,
   "metadata": {},
   "outputs": [
    {
     "name": "stdout",
     "output_type": "stream",
     "text": [
      "+-----+-----------------+----------+-----------------+\n",
      "|month|       total_rain|avg(month)|  avg(total_rain)|\n",
      "+-----+-----------------+----------+-----------------+\n",
      "|   10|            9.675|      10.0|            9.675|\n",
      "|   11|             8.42|      11.0|             8.42|\n",
      "|    1|6.614285714285715|       1.0|6.614285714285715|\n",
      "+-----+-----------------+----------+-----------------+\n",
      "only showing top 3 rows\n",
      "\n"
     ]
    }
   ],
   "source": [
    "rain.groupby('month','total_rain').mean().show(3)"
   ]
  },
  {
   "cell_type": "code",
   "execution_count": 291,
   "metadata": {},
   "outputs": [],
   "source": [
    "# 4c. Which year was the windiest?\n",
    "groupwind = weather.withColumn(\n",
    "    'year', F.year(F.col('date')\n",
    "                    )\n",
    ").groupBy(\n",
    "    'year'\n",
    ").agg(\n",
    "    F.mean(weather.wind).alias('total_wind')\n",
    ").sort('total_wind',ascending=False)"
   ]
  },
  {
   "cell_type": "code",
   "execution_count": 297,
   "metadata": {},
   "outputs": [
    {
     "name": "stdout",
     "output_type": "stream",
     "text": [
      "+----+-----------------+\n",
      "|year|       total_wind|\n",
      "+----+-----------------+\n",
      "|2012|3.400819672131147|\n",
      "+----+-----------------+\n",
      "only showing top 1 row\n",
      "\n"
     ]
    }
   ],
   "source": [
    "groupwind.show(1)"
   ]
  },
  {
   "cell_type": "code",
   "execution_count": null,
   "metadata": {},
   "outputs": [],
   "source": [
    "# 4d. What is the most frequent type of weather in January?\n"
   ]
  }
 ],
 "metadata": {
  "kernelspec": {
   "display_name": "codeup",
   "language": "python",
   "name": "python3"
  },
  "language_info": {
   "codemirror_mode": {
    "name": "ipython",
    "version": 3
   },
   "file_extension": ".py",
   "mimetype": "text/x-python",
   "name": "python",
   "nbconvert_exporter": "python",
   "pygments_lexer": "ipython3",
   "version": "3.11.4"
  }
 },
 "nbformat": 4,
 "nbformat_minor": 2
}
